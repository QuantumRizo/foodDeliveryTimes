{
 "cells": [
  {
   "cell_type": "code",
   "execution_count": 1,
   "id": "5fe0090c",
   "metadata": {},
   "outputs": [],
   "source": [
    "# Food Delivery Time Prediction\n",
    "# Exploratory Data Analysis (EDA) Notebook\n",
    "\n",
    "# Goal:\n",
    "# Predict delivery time (Delivery_Time_min) based on features such as\n",
    "# distance, weather, traffic, courier experience, etc.\n"
   ]
  },
  {
   "cell_type": "code",
   "execution_count": null,
   "id": "228d6b75",
   "metadata": {},
   "outputs": [],
   "source": [
    "# Core libraries\n",
    "import pandas as pd\n",
    "import numpy as np\n",
    "from sklearn.preprocessing import LabelEncoder, MinMaxScaler, StandardScaler\n",
    "import geopy.distance\n",
    "import tensorflow as tf\n",
    "from tensorflow.keras.layers import Input, Dense, Concatenate\n",
    "from tensorflow.keras.models import Model\n",
    "from tensorflow.keras.callbacks import ModelCheckpoint\n",
    "from sklearn.model_selection import train_test_split\n",
    "\n",
    "# Visualization\n",
    "import matplotlib.pyplot as plt\n",
    "import seaborn as sns\n",
    "\n"
   ]
  },
  {
   "cell_type": "code",
   "execution_count": 3,
   "id": "dba7305e",
   "metadata": {},
   "outputs": [],
   "source": [
    "# Global constants\n",
    "TIME_FMT = '%H:%M'\n",
    "DATE_FMT = '%d-%m-%Y'\n",
    "SEED = 359"
   ]
  },
  {
   "cell_type": "code",
   "execution_count": 4,
   "id": "5addb2f7",
   "metadata": {},
   "outputs": [],
   "source": [
    "PATH = \"../data/Zomato Dataset.csv\"\n"
   ]
  },
  {
   "cell_type": "code",
   "execution_count": 5,
   "id": "87930daf",
   "metadata": {},
   "outputs": [
    {
     "name": "stderr",
     "output_type": "stream",
     "text": [
      "/tmp/ipykernel_34640/4271769451.py:1: FutureWarning: The argument 'infer_datetime_format' is deprecated and will be removed in a future version. A strict version of it is now the default, see https://pandas.pydata.org/pdeps/0004-consistent-to-datetime-parsing.html. You can safely remove this argument.\n",
      "  df = pd.read_csv(PATH,parse_dates=['Order_Date'],infer_datetime_format=True,date_format=DATE_FMT,dayfirst=True)\n"
     ]
    },
    {
     "name": "stdout",
     "output_type": "stream",
     "text": [
      "Data Shape: (41359, 19)\n",
      "\n",
      "\n"
     ]
    },
    {
     "data": {
      "text/html": [
       "<div>\n",
       "<style scoped>\n",
       "    .dataframe tbody tr th:only-of-type {\n",
       "        vertical-align: middle;\n",
       "    }\n",
       "\n",
       "    .dataframe tbody tr th {\n",
       "        vertical-align: top;\n",
       "    }\n",
       "\n",
       "    .dataframe thead th {\n",
       "        text-align: right;\n",
       "    }\n",
       "</style>\n",
       "<table border=\"1\" class=\"dataframe\">\n",
       "  <thead>\n",
       "    <tr style=\"text-align: right;\">\n",
       "      <th></th>\n",
       "      <th>delivery_person_id</th>\n",
       "      <th>delivery_person_age</th>\n",
       "      <th>delivery_person_ratings</th>\n",
       "      <th>restaurant_latitude</th>\n",
       "      <th>restaurant_longitude</th>\n",
       "      <th>delivery_location_latitude</th>\n",
       "      <th>delivery_location_longitude</th>\n",
       "      <th>order_date</th>\n",
       "      <th>time_orderd</th>\n",
       "      <th>time_order_picked</th>\n",
       "      <th>weather_conditions</th>\n",
       "      <th>road_traffic_density</th>\n",
       "      <th>vehicle_condition</th>\n",
       "      <th>type_of_order</th>\n",
       "      <th>type_of_vehicle</th>\n",
       "      <th>multiple_deliveries</th>\n",
       "      <th>festival</th>\n",
       "      <th>city</th>\n",
       "      <th>time_taken_min</th>\n",
       "    </tr>\n",
       "  </thead>\n",
       "  <tbody>\n",
       "    <tr>\n",
       "      <th>0</th>\n",
       "      <td>KOLRES19DEL02</td>\n",
       "      <td>27.0</td>\n",
       "      <td>4.4</td>\n",
       "      <td>-22.549100</td>\n",
       "      <td>88.400467</td>\n",
       "      <td>22.569100</td>\n",
       "      <td>88.420467</td>\n",
       "      <td>2022-02-11</td>\n",
       "      <td>11:55</td>\n",
       "      <td>12:10</td>\n",
       "      <td>Sunny</td>\n",
       "      <td>High</td>\n",
       "      <td>0</td>\n",
       "      <td>Snack</td>\n",
       "      <td>motorcycle</td>\n",
       "      <td>2.0</td>\n",
       "      <td>No</td>\n",
       "      <td>Metropolitian</td>\n",
       "      <td>49</td>\n",
       "    </tr>\n",
       "    <tr>\n",
       "      <th>1</th>\n",
       "      <td>ALHRES07DEL01</td>\n",
       "      <td>22.0</td>\n",
       "      <td>4.1</td>\n",
       "      <td>25.449659</td>\n",
       "      <td>81.839744</td>\n",
       "      <td>25.459659</td>\n",
       "      <td>81.849744</td>\n",
       "      <td>2022-02-11</td>\n",
       "      <td>09:45</td>\n",
       "      <td>09:50</td>\n",
       "      <td>Windy</td>\n",
       "      <td>Low</td>\n",
       "      <td>0</td>\n",
       "      <td>Meal</td>\n",
       "      <td>motorcycle</td>\n",
       "      <td>0.0</td>\n",
       "      <td>No</td>\n",
       "      <td>Metropolitian</td>\n",
       "      <td>16</td>\n",
       "    </tr>\n",
       "    <tr>\n",
       "      <th>2</th>\n",
       "      <td>AURGRES13DEL02</td>\n",
       "      <td>24.0</td>\n",
       "      <td>5.0</td>\n",
       "      <td>19.880256</td>\n",
       "      <td>75.323503</td>\n",
       "      <td>19.930256</td>\n",
       "      <td>75.373503</td>\n",
       "      <td>2022-02-11</td>\n",
       "      <td>17:45</td>\n",
       "      <td>17:50</td>\n",
       "      <td>Cloudy</td>\n",
       "      <td>Medium</td>\n",
       "      <td>1</td>\n",
       "      <td>Buffet</td>\n",
       "      <td>motorcycle</td>\n",
       "      <td>1.0</td>\n",
       "      <td>No</td>\n",
       "      <td>Metropolitian</td>\n",
       "      <td>15</td>\n",
       "    </tr>\n",
       "    <tr>\n",
       "      <th>3</th>\n",
       "      <td>AURGRES12DEL01</td>\n",
       "      <td>34.0</td>\n",
       "      <td>4.8</td>\n",
       "      <td>19.879631</td>\n",
       "      <td>75.323403</td>\n",
       "      <td>19.919631</td>\n",
       "      <td>75.363403</td>\n",
       "      <td>2022-02-11</td>\n",
       "      <td>16:15</td>\n",
       "      <td>16:20</td>\n",
       "      <td>Windy</td>\n",
       "      <td>Medium</td>\n",
       "      <td>1</td>\n",
       "      <td>Snack</td>\n",
       "      <td>motorcycle</td>\n",
       "      <td>1.0</td>\n",
       "      <td>No</td>\n",
       "      <td>Metropolitian</td>\n",
       "      <td>34</td>\n",
       "    </tr>\n",
       "    <tr>\n",
       "      <th>4</th>\n",
       "      <td>LUDHRES010DEL01</td>\n",
       "      <td>29.0</td>\n",
       "      <td>4.7</td>\n",
       "      <td>30.892860</td>\n",
       "      <td>75.822199</td>\n",
       "      <td>30.932860</td>\n",
       "      <td>75.862199</td>\n",
       "      <td>2022-02-11</td>\n",
       "      <td>15:40</td>\n",
       "      <td>15:50</td>\n",
       "      <td>Fog</td>\n",
       "      <td>Medium</td>\n",
       "      <td>2</td>\n",
       "      <td>Drinks</td>\n",
       "      <td>electric_scooter</td>\n",
       "      <td>0.0</td>\n",
       "      <td>No</td>\n",
       "      <td>Metropolitian</td>\n",
       "      <td>17</td>\n",
       "    </tr>\n",
       "  </tbody>\n",
       "</table>\n",
       "</div>"
      ],
      "text/plain": [
       "  delivery_person_id  delivery_person_age  delivery_person_ratings  \\\n",
       "0      KOLRES19DEL02                 27.0                      4.4   \n",
       "1      ALHRES07DEL01                 22.0                      4.1   \n",
       "2     AURGRES13DEL02                 24.0                      5.0   \n",
       "3     AURGRES12DEL01                 34.0                      4.8   \n",
       "4    LUDHRES010DEL01                 29.0                      4.7   \n",
       "\n",
       "   restaurant_latitude  restaurant_longitude  delivery_location_latitude  \\\n",
       "0           -22.549100             88.400467                   22.569100   \n",
       "1            25.449659             81.839744                   25.459659   \n",
       "2            19.880256             75.323503                   19.930256   \n",
       "3            19.879631             75.323403                   19.919631   \n",
       "4            30.892860             75.822199                   30.932860   \n",
       "\n",
       "   delivery_location_longitude order_date time_orderd time_order_picked  \\\n",
       "0                    88.420467 2022-02-11       11:55             12:10   \n",
       "1                    81.849744 2022-02-11       09:45             09:50   \n",
       "2                    75.373503 2022-02-11       17:45             17:50   \n",
       "3                    75.363403 2022-02-11       16:15             16:20   \n",
       "4                    75.862199 2022-02-11       15:40             15:50   \n",
       "\n",
       "  weather_conditions road_traffic_density  vehicle_condition type_of_order  \\\n",
       "0              Sunny                 High                  0         Snack   \n",
       "1              Windy                  Low                  0          Meal   \n",
       "2             Cloudy               Medium                  1        Buffet   \n",
       "3              Windy               Medium                  1         Snack   \n",
       "4                Fog               Medium                  2        Drinks   \n",
       "\n",
       "    type_of_vehicle  multiple_deliveries festival           city  \\\n",
       "0        motorcycle                  2.0       No  Metropolitian   \n",
       "1        motorcycle                  0.0       No  Metropolitian   \n",
       "2        motorcycle                  1.0       No  Metropolitian   \n",
       "3        motorcycle                  1.0       No  Metropolitian   \n",
       "4  electric_scooter                  0.0       No  Metropolitian   \n",
       "\n",
       "   time_taken_min  \n",
       "0              49  \n",
       "1              16  \n",
       "2              15  \n",
       "3              34  \n",
       "4              17  "
      ]
     },
     "execution_count": 5,
     "metadata": {},
     "output_type": "execute_result"
    }
   ],
   "source": [
    "df = pd.read_csv(PATH,parse_dates=['Order_Date'],infer_datetime_format=True,date_format=DATE_FMT,dayfirst=True)\n",
    "\n",
    "# drop NULLs \n",
    "df.dropna(inplace=True)\n",
    "\n",
    "# drop unwanted column/s \n",
    "unwanted_cols = ['ID']\n",
    "df.drop(unwanted_cols, inplace=True, axis=1)\n",
    "\n",
    "# renaming column = time_taken(min)\n",
    "df.rename(columns={'Time_taken (min)':'Time_taken_min'}, inplace=True)\n",
    "\n",
    "# formatting column names -- optional\n",
    "df.columns = [c.lower() for c in df.columns]\n",
    "\n",
    "# sort by order_date (old to new)\n",
    "df.sort_values(by=['order_date'],inplace=True)\n",
    "df.reset_index(drop=True, inplace=True)\n",
    "\n",
    "\n",
    "# view\n",
    "print(f\"Data Shape: {df.shape}\\n\\n\")\n",
    "df.head()"
   ]
  },
  {
   "cell_type": "code",
   "execution_count": null,
   "id": "e36b5718",
   "metadata": {},
   "outputs": [
    {
     "name": "stdout",
     "output_type": "stream",
     "text": [
      "Data Shape after de-duplication: (36517, 19)\n",
      "\n",
      "\n"
     ]
    },
    {
     "data": {
      "text/html": [
       "<div>\n",
       "<style scoped>\n",
       "    .dataframe tbody tr th:only-of-type {\n",
       "        vertical-align: middle;\n",
       "    }\n",
       "\n",
       "    .dataframe tbody tr th {\n",
       "        vertical-align: top;\n",
       "    }\n",
       "\n",
       "    .dataframe thead th {\n",
       "        text-align: right;\n",
       "    }\n",
       "</style>\n",
       "<table border=\"1\" class=\"dataframe\">\n",
       "  <thead>\n",
       "    <tr style=\"text-align: right;\">\n",
       "      <th></th>\n",
       "      <th>delivery_person_id</th>\n",
       "      <th>delivery_person_age</th>\n",
       "      <th>delivery_person_ratings</th>\n",
       "      <th>restaurant_latitude</th>\n",
       "      <th>restaurant_longitude</th>\n",
       "      <th>delivery_location_latitude</th>\n",
       "      <th>delivery_location_longitude</th>\n",
       "      <th>order_date</th>\n",
       "      <th>time_orderd</th>\n",
       "      <th>time_order_picked</th>\n",
       "      <th>weather_conditions</th>\n",
       "      <th>road_traffic_density</th>\n",
       "      <th>vehicle_condition</th>\n",
       "      <th>type_of_order</th>\n",
       "      <th>type_of_vehicle</th>\n",
       "      <th>multiple_deliveries</th>\n",
       "      <th>festival</th>\n",
       "      <th>city</th>\n",
       "      <th>time_taken_min</th>\n",
       "    </tr>\n",
       "  </thead>\n",
       "  <tbody>\n",
       "    <tr>\n",
       "      <th>0</th>\n",
       "      <td>KOLRES19DEL02</td>\n",
       "      <td>27.0</td>\n",
       "      <td>4.4</td>\n",
       "      <td>-22.549100</td>\n",
       "      <td>88.400467</td>\n",
       "      <td>22.569100</td>\n",
       "      <td>88.420467</td>\n",
       "      <td>2022-02-11</td>\n",
       "      <td>11:55</td>\n",
       "      <td>12:10</td>\n",
       "      <td>Sunny</td>\n",
       "      <td>High</td>\n",
       "      <td>0</td>\n",
       "      <td>Snack</td>\n",
       "      <td>motorcycle</td>\n",
       "      <td>2.0</td>\n",
       "      <td>No</td>\n",
       "      <td>Metropolitian</td>\n",
       "      <td>49</td>\n",
       "    </tr>\n",
       "    <tr>\n",
       "      <th>1</th>\n",
       "      <td>ALHRES07DEL01</td>\n",
       "      <td>22.0</td>\n",
       "      <td>4.1</td>\n",
       "      <td>25.449659</td>\n",
       "      <td>81.839744</td>\n",
       "      <td>25.459659</td>\n",
       "      <td>81.849744</td>\n",
       "      <td>2022-02-11</td>\n",
       "      <td>09:45</td>\n",
       "      <td>09:50</td>\n",
       "      <td>Windy</td>\n",
       "      <td>Low</td>\n",
       "      <td>0</td>\n",
       "      <td>Meal</td>\n",
       "      <td>motorcycle</td>\n",
       "      <td>0.0</td>\n",
       "      <td>No</td>\n",
       "      <td>Metropolitian</td>\n",
       "      <td>16</td>\n",
       "    </tr>\n",
       "    <tr>\n",
       "      <th>2</th>\n",
       "      <td>AURGRES13DEL02</td>\n",
       "      <td>24.0</td>\n",
       "      <td>5.0</td>\n",
       "      <td>19.880256</td>\n",
       "      <td>75.323503</td>\n",
       "      <td>19.930256</td>\n",
       "      <td>75.373503</td>\n",
       "      <td>2022-02-11</td>\n",
       "      <td>17:45</td>\n",
       "      <td>17:50</td>\n",
       "      <td>Cloudy</td>\n",
       "      <td>Medium</td>\n",
       "      <td>1</td>\n",
       "      <td>Buffet</td>\n",
       "      <td>motorcycle</td>\n",
       "      <td>1.0</td>\n",
       "      <td>No</td>\n",
       "      <td>Metropolitian</td>\n",
       "      <td>15</td>\n",
       "    </tr>\n",
       "    <tr>\n",
       "      <th>3</th>\n",
       "      <td>AURGRES12DEL01</td>\n",
       "      <td>34.0</td>\n",
       "      <td>4.8</td>\n",
       "      <td>19.879631</td>\n",
       "      <td>75.323403</td>\n",
       "      <td>19.919631</td>\n",
       "      <td>75.363403</td>\n",
       "      <td>2022-02-11</td>\n",
       "      <td>16:15</td>\n",
       "      <td>16:20</td>\n",
       "      <td>Windy</td>\n",
       "      <td>Medium</td>\n",
       "      <td>1</td>\n",
       "      <td>Snack</td>\n",
       "      <td>motorcycle</td>\n",
       "      <td>1.0</td>\n",
       "      <td>No</td>\n",
       "      <td>Metropolitian</td>\n",
       "      <td>34</td>\n",
       "    </tr>\n",
       "    <tr>\n",
       "      <th>4</th>\n",
       "      <td>LUDHRES010DEL01</td>\n",
       "      <td>29.0</td>\n",
       "      <td>4.7</td>\n",
       "      <td>30.892860</td>\n",
       "      <td>75.822199</td>\n",
       "      <td>30.932860</td>\n",
       "      <td>75.862199</td>\n",
       "      <td>2022-02-11</td>\n",
       "      <td>15:40</td>\n",
       "      <td>15:50</td>\n",
       "      <td>Fog</td>\n",
       "      <td>Medium</td>\n",
       "      <td>2</td>\n",
       "      <td>Drinks</td>\n",
       "      <td>electric_scooter</td>\n",
       "      <td>0.0</td>\n",
       "      <td>No</td>\n",
       "      <td>Metropolitian</td>\n",
       "      <td>17</td>\n",
       "    </tr>\n",
       "  </tbody>\n",
       "</table>\n",
       "</div>"
      ],
      "text/plain": [
       "  delivery_person_id  delivery_person_age  delivery_person_ratings  \\\n",
       "0      KOLRES19DEL02                 27.0                      4.4   \n",
       "1      ALHRES07DEL01                 22.0                      4.1   \n",
       "2     AURGRES13DEL02                 24.0                      5.0   \n",
       "3     AURGRES12DEL01                 34.0                      4.8   \n",
       "4    LUDHRES010DEL01                 29.0                      4.7   \n",
       "\n",
       "   restaurant_latitude  restaurant_longitude  delivery_location_latitude  \\\n",
       "0           -22.549100             88.400467                   22.569100   \n",
       "1            25.449659             81.839744                   25.459659   \n",
       "2            19.880256             75.323503                   19.930256   \n",
       "3            19.879631             75.323403                   19.919631   \n",
       "4            30.892860             75.822199                   30.932860   \n",
       "\n",
       "   delivery_location_longitude order_date time_orderd time_order_picked  \\\n",
       "0                    88.420467 2022-02-11       11:55             12:10   \n",
       "1                    81.849744 2022-02-11       09:45             09:50   \n",
       "2                    75.373503 2022-02-11       17:45             17:50   \n",
       "3                    75.363403 2022-02-11       16:15             16:20   \n",
       "4                    75.862199 2022-02-11       15:40             15:50   \n",
       "\n",
       "  weather_conditions road_traffic_density  vehicle_condition type_of_order  \\\n",
       "0              Sunny                 High                  0         Snack   \n",
       "1              Windy                  Low                  0          Meal   \n",
       "2             Cloudy               Medium                  1        Buffet   \n",
       "3              Windy               Medium                  1         Snack   \n",
       "4                Fog               Medium                  2        Drinks   \n",
       "\n",
       "    type_of_vehicle  multiple_deliveries festival           city  \\\n",
       "0        motorcycle                  2.0       No  Metropolitian   \n",
       "1        motorcycle                  0.0       No  Metropolitian   \n",
       "2        motorcycle                  1.0       No  Metropolitian   \n",
       "3        motorcycle                  1.0       No  Metropolitian   \n",
       "4  electric_scooter                  0.0       No  Metropolitian   \n",
       "\n",
       "   time_taken_min  \n",
       "0              49  \n",
       "1              16  \n",
       "2              15  \n",
       "3              34  \n",
       "4              17  "
      ]
     },
     "execution_count": 6,
     "metadata": {},
     "output_type": "execute_result"
    }
   ],
   "source": [
    "# -------------------------------\n",
    "# De-duplication criteria #1\n",
    "# -------------------------------\n",
    "dup_c1 = [\n",
    "    'delivery_person_id',\n",
    "    'delivery_person_age',\n",
    "    'order_date',\n",
    "    'time_orderd'\n",
    "]\n",
    "\n",
    "# Drop duplicates (keep=None → remove all duplicates)\n",
    "df = df[~df.duplicated(subset=dup_c1, keep=False)]\n",
    "\n",
    "# -------------------------------\n",
    "# De-duplication criteria #2\n",
    "# -------------------------------\n",
    "dup_c2 = [\n",
    "    'delivery_person_id',\n",
    "    'delivery_person_age',\n",
    "    'delivery_person_ratings'\n",
    "]\n",
    "\n",
    "# Drop duplicates (keep='first' → keep first occurrence)\n",
    "df = df[~df.duplicated(subset=dup_c2, keep='first')]\n",
    "\n",
    "# -------------------------------\n",
    "# Quick check\n",
    "# -------------------------------\n",
    "print(f\"Data Shape after de-duplication: {df.shape}\\n\\n\")\n",
    "df.head()\n"
   ]
  },
  {
   "cell_type": "code",
   "execution_count": 7,
   "id": "68739fe1",
   "metadata": {},
   "outputs": [],
   "source": [
    "#Convert age to int\n",
    "df['delivery_person_age'] = df['delivery_person_age'].astype(int)\n",
    "   "
   ]
  },
  {
   "cell_type": "code",
   "execution_count": 8,
   "id": "32622076",
   "metadata": {},
   "outputs": [
    {
     "data": {
      "text/html": [
       "<div>\n",
       "<style scoped>\n",
       "    .dataframe tbody tr th:only-of-type {\n",
       "        vertical-align: middle;\n",
       "    }\n",
       "\n",
       "    .dataframe tbody tr th {\n",
       "        vertical-align: top;\n",
       "    }\n",
       "\n",
       "    .dataframe thead th {\n",
       "        text-align: right;\n",
       "    }\n",
       "</style>\n",
       "<table border=\"1\" class=\"dataframe\">\n",
       "  <thead>\n",
       "    <tr style=\"text-align: right;\">\n",
       "      <th></th>\n",
       "      <th>pickup_time_min</th>\n",
       "    </tr>\n",
       "  </thead>\n",
       "  <tbody>\n",
       "    <tr>\n",
       "      <th>0</th>\n",
       "      <td>15</td>\n",
       "    </tr>\n",
       "    <tr>\n",
       "      <th>1</th>\n",
       "      <td>5</td>\n",
       "    </tr>\n",
       "    <tr>\n",
       "      <th>2</th>\n",
       "      <td>5</td>\n",
       "    </tr>\n",
       "    <tr>\n",
       "      <th>3</th>\n",
       "      <td>5</td>\n",
       "    </tr>\n",
       "    <tr>\n",
       "      <th>4</th>\n",
       "      <td>10</td>\n",
       "    </tr>\n",
       "  </tbody>\n",
       "</table>\n",
       "</div>"
      ],
      "text/plain": [
       "   pickup_time_min\n",
       "0               15\n",
       "1                5\n",
       "2                5\n",
       "3                5\n",
       "4               10"
      ]
     },
     "execution_count": 8,
     "metadata": {},
     "output_type": "execute_result"
    }
   ],
   "source": [
    "# Convert time columns to datetime, invalid entries become NaT\n",
    "df['time_orderd'] = pd.to_datetime(df['time_orderd'], format='%H:%M', errors='coerce')\n",
    "df['time_order_picked'] = pd.to_datetime(df['time_order_picked'], format='%H:%M', errors='coerce')\n",
    "\n",
    "# Compute pickup time in minutes\n",
    "df['pickup_time_min'] = (df['time_order_picked'] - df['time_orderd']).dt.total_seconds() / 60\n",
    "\n",
    "# Remove rows with null pickup time\n",
    "df = df.dropna(subset=['pickup_time_min'])\n",
    "\n",
    "# Convert to integer\n",
    "df['pickup_time_min'] = df['pickup_time_min'].astype(np.int64)\n",
    "\n",
    "# Drop original time columns\n",
    "df.drop(['time_orderd', 'time_order_picked'], axis=1, inplace=True)\n",
    "\n",
    "# Preview result\n",
    "df[['pickup_time_min']].head()"
   ]
  },
  {
   "cell_type": "code",
   "execution_count": 9,
   "id": "2cc84880",
   "metadata": {},
   "outputs": [
    {
     "data": {
      "text/html": [
       "<div>\n",
       "<style scoped>\n",
       "    .dataframe tbody tr th:only-of-type {\n",
       "        vertical-align: middle;\n",
       "    }\n",
       "\n",
       "    .dataframe tbody tr th {\n",
       "        vertical-align: top;\n",
       "    }\n",
       "\n",
       "    .dataframe thead th {\n",
       "        text-align: right;\n",
       "    }\n",
       "</style>\n",
       "<table border=\"1\" class=\"dataframe\">\n",
       "  <thead>\n",
       "    <tr style=\"text-align: right;\">\n",
       "      <th></th>\n",
       "      <th>delivery_dist_km</th>\n",
       "    </tr>\n",
       "  </thead>\n",
       "  <tbody>\n",
       "    <tr>\n",
       "      <th>0</th>\n",
       "      <td>3.02</td>\n",
       "    </tr>\n",
       "    <tr>\n",
       "      <th>1</th>\n",
       "      <td>1.50</td>\n",
       "    </tr>\n",
       "    <tr>\n",
       "      <th>2</th>\n",
       "      <td>7.62</td>\n",
       "    </tr>\n",
       "    <tr>\n",
       "      <th>3</th>\n",
       "      <td>6.10</td>\n",
       "    </tr>\n",
       "    <tr>\n",
       "      <th>4</th>\n",
       "      <td>5.86</td>\n",
       "    </tr>\n",
       "  </tbody>\n",
       "</table>\n",
       "</div>"
      ],
      "text/plain": [
       "   delivery_dist_km\n",
       "0              3.02\n",
       "1              1.50\n",
       "2              7.62\n",
       "3              6.10\n",
       "4              5.86"
      ]
     },
     "execution_count": 9,
     "metadata": {},
     "output_type": "execute_result"
    }
   ],
   "source": [
    "# Define the distance function\n",
    "def get_distance(rlat: float, rlon: float, dlat: float, dlon: float):\n",
    "    \"\"\"\n",
    "    Compute the distance (km) between two geo-coordinates.\n",
    "    The order of arguments is restaurant > delivery location.\n",
    "    \"\"\"\n",
    "    res_coords = (abs(rlat), abs(rlon))\n",
    "    dl_coords = (abs(dlat), abs(dlon))\n",
    "    try:\n",
    "        dist = geopy.distance.geodesic(res_coords, dl_coords).km\n",
    "        return round(dist, 2)\n",
    "    except:\n",
    "        return None\n",
    "\n",
    "# Calculate distance for each row\n",
    "df['delivery_dist_km'] = df.apply(lambda row: get_distance(\n",
    "    row['restaurant_latitude'],\n",
    "    row['restaurant_longitude'],\n",
    "    row['delivery_location_latitude'],\n",
    "    row['delivery_location_longitude']\n",
    "), axis=1)\n",
    "\n",
    "# Drop original latitude and longitude columns\n",
    "unwanted_cols = ['restaurant_latitude','restaurant_longitude',\n",
    "                 'delivery_location_latitude','delivery_location_longitude']\n",
    "df.drop(unwanted_cols, axis=1, inplace=True)\n",
    "df.reset_index(drop=True, inplace=True)\n",
    "\n",
    "# Preview result\n",
    "df[['delivery_dist_km']].head()\n"
   ]
  },
  {
   "cell_type": "code",
   "execution_count": 10,
   "id": "5ff1bd4d",
   "metadata": {},
   "outputs": [
    {
     "data": {
      "text/html": [
       "<div>\n",
       "<style scoped>\n",
       "    .dataframe tbody tr th:only-of-type {\n",
       "        vertical-align: middle;\n",
       "    }\n",
       "\n",
       "    .dataframe tbody tr th {\n",
       "        vertical-align: top;\n",
       "    }\n",
       "\n",
       "    .dataframe thead th {\n",
       "        text-align: right;\n",
       "    }\n",
       "</style>\n",
       "<table border=\"1\" class=\"dataframe\">\n",
       "  <thead>\n",
       "    <tr style=\"text-align: right;\">\n",
       "      <th></th>\n",
       "      <th>month</th>\n",
       "      <th>weekend</th>\n",
       "    </tr>\n",
       "  </thead>\n",
       "  <tbody>\n",
       "    <tr>\n",
       "      <th>0</th>\n",
       "      <td>2</td>\n",
       "      <td>no</td>\n",
       "    </tr>\n",
       "    <tr>\n",
       "      <th>1</th>\n",
       "      <td>2</td>\n",
       "      <td>no</td>\n",
       "    </tr>\n",
       "    <tr>\n",
       "      <th>2</th>\n",
       "      <td>2</td>\n",
       "      <td>no</td>\n",
       "    </tr>\n",
       "    <tr>\n",
       "      <th>3</th>\n",
       "      <td>2</td>\n",
       "      <td>no</td>\n",
       "    </tr>\n",
       "    <tr>\n",
       "      <th>4</th>\n",
       "      <td>2</td>\n",
       "      <td>no</td>\n",
       "    </tr>\n",
       "  </tbody>\n",
       "</table>\n",
       "</div>"
      ],
      "text/plain": [
       "   month weekend\n",
       "0      2      no\n",
       "1      2      no\n",
       "2      2      no\n",
       "3      2      no\n",
       "4      2      no"
      ]
     },
     "execution_count": 10,
     "metadata": {},
     "output_type": "execute_result"
    }
   ],
   "source": [
    "# Extract month from order_date\n",
    "df['month'] = df['order_date'].dt.month\n",
    "\n",
    "# Mark weekends: yes if Saturday or Sunday, no otherwise\n",
    "df['weekend'] = df['order_date'].dt.weekday.apply(lambda x: 'yes' if x >= 5 else 'no')\n",
    "\n",
    "# Drop original order_date column\n",
    "df.drop('order_date', axis=1, inplace=True)\n",
    "\n",
    "# Reset index\n",
    "df.reset_index(drop=True, inplace=True)\n",
    "\n",
    "# Preview result\n",
    "df[['month', 'weekend']].head()\n"
   ]
  },
  {
   "cell_type": "code",
   "execution_count": null,
   "id": "2ab56cc3",
   "metadata": {},
   "outputs": [
    {
     "name": "stdout",
     "output_type": "stream",
     "text": [
      "Data Shape: (29486, 13)\n",
      "\n"
     ]
    },
    {
     "data": {
      "text/html": [
       "<div>\n",
       "<style scoped>\n",
       "    .dataframe tbody tr th:only-of-type {\n",
       "        vertical-align: middle;\n",
       "    }\n",
       "\n",
       "    .dataframe tbody tr th {\n",
       "        vertical-align: top;\n",
       "    }\n",
       "\n",
       "    .dataframe thead th {\n",
       "        text-align: right;\n",
       "    }\n",
       "</style>\n",
       "<table border=\"1\" class=\"dataframe\">\n",
       "  <thead>\n",
       "    <tr style=\"text-align: right;\">\n",
       "      <th></th>\n",
       "      <th>weather_conditions</th>\n",
       "      <th>road_traffic_density</th>\n",
       "      <th>vehicle_condition</th>\n",
       "      <th>type_of_order</th>\n",
       "      <th>type_of_vehicle</th>\n",
       "      <th>multiple_deliveries</th>\n",
       "      <th>festival</th>\n",
       "      <th>city</th>\n",
       "      <th>pickup_time_min</th>\n",
       "      <th>delivery_dist_km</th>\n",
       "      <th>month</th>\n",
       "      <th>weekend</th>\n",
       "      <th>time_taken_min</th>\n",
       "    </tr>\n",
       "  </thead>\n",
       "  <tbody>\n",
       "    <tr>\n",
       "      <th>0</th>\n",
       "      <td>4</td>\n",
       "      <td>0</td>\n",
       "      <td>0</td>\n",
       "      <td>3</td>\n",
       "      <td>1</td>\n",
       "      <td>1</td>\n",
       "      <td>0</td>\n",
       "      <td>0</td>\n",
       "      <td>1.0</td>\n",
       "      <td>0.080082</td>\n",
       "      <td>2</td>\n",
       "      <td>0</td>\n",
       "      <td>49</td>\n",
       "    </tr>\n",
       "    <tr>\n",
       "      <th>1</th>\n",
       "      <td>5</td>\n",
       "      <td>2</td>\n",
       "      <td>0</td>\n",
       "      <td>2</td>\n",
       "      <td>1</td>\n",
       "      <td>0</td>\n",
       "      <td>0</td>\n",
       "      <td>0</td>\n",
       "      <td>0.0</td>\n",
       "      <td>0.002053</td>\n",
       "      <td>2</td>\n",
       "      <td>0</td>\n",
       "      <td>16</td>\n",
       "    </tr>\n",
       "    <tr>\n",
       "      <th>2</th>\n",
       "      <td>0</td>\n",
       "      <td>3</td>\n",
       "      <td>1</td>\n",
       "      <td>0</td>\n",
       "      <td>1</td>\n",
       "      <td>1</td>\n",
       "      <td>0</td>\n",
       "      <td>0</td>\n",
       "      <td>0.0</td>\n",
       "      <td>0.316222</td>\n",
       "      <td>2</td>\n",
       "      <td>0</td>\n",
       "      <td>15</td>\n",
       "    </tr>\n",
       "    <tr>\n",
       "      <th>3</th>\n",
       "      <td>5</td>\n",
       "      <td>3</td>\n",
       "      <td>1</td>\n",
       "      <td>3</td>\n",
       "      <td>1</td>\n",
       "      <td>1</td>\n",
       "      <td>0</td>\n",
       "      <td>0</td>\n",
       "      <td>0.0</td>\n",
       "      <td>0.238193</td>\n",
       "      <td>2</td>\n",
       "      <td>0</td>\n",
       "      <td>34</td>\n",
       "    </tr>\n",
       "    <tr>\n",
       "      <th>4</th>\n",
       "      <td>1</td>\n",
       "      <td>3</td>\n",
       "      <td>2</td>\n",
       "      <td>1</td>\n",
       "      <td>0</td>\n",
       "      <td>0</td>\n",
       "      <td>0</td>\n",
       "      <td>0</td>\n",
       "      <td>0.5</td>\n",
       "      <td>0.225873</td>\n",
       "      <td>2</td>\n",
       "      <td>0</td>\n",
       "      <td>17</td>\n",
       "    </tr>\n",
       "  </tbody>\n",
       "</table>\n",
       "</div>"
      ],
      "text/plain": [
       "   weather_conditions  road_traffic_density  vehicle_condition  type_of_order  \\\n",
       "0                   4                     0                  0              3   \n",
       "1                   5                     2                  0              2   \n",
       "2                   0                     3                  1              0   \n",
       "3                   5                     3                  1              3   \n",
       "4                   1                     3                  2              1   \n",
       "\n",
       "   type_of_vehicle  multiple_deliveries  festival  city  pickup_time_min  \\\n",
       "0                1                    1         0     0              1.0   \n",
       "1                1                    0         0     0              0.0   \n",
       "2                1                    1         0     0              0.0   \n",
       "3                1                    1         0     0              0.0   \n",
       "4                0                    0         0     0              0.5   \n",
       "\n",
       "   delivery_dist_km  month  weekend  time_taken_min  \n",
       "0          0.080082      2        0              49  \n",
       "1          0.002053      2        0              16  \n",
       "2          0.316222      2        0              15  \n",
       "3          0.238193      2        0              34  \n",
       "4          0.225873      2        0              17  "
      ]
     },
     "execution_count": 11,
     "metadata": {},
     "output_type": "execute_result"
    }
   ],
   "source": [
    "# Convert 'multiple_deliveries' to categorical\n",
    "df['multiple_deliveries'] = df['multiple_deliveries'].apply(lambda x: 'no' if x == 0.0 else 'yes')\n",
    "\n",
    "# Drop person-specific columns\n",
    "df.drop(['delivery_person_id', 'delivery_person_age', 'delivery_person_ratings'], axis=1, inplace=True)\n",
    "df.reset_index(drop=True, inplace=True)\n",
    "\n",
    "# Label encode categorical columns\n",
    "cat_cols = ['weather_conditions','road_traffic_density','type_of_order','type_of_vehicle',\n",
    "            'multiple_deliveries','festival','city','weekend','vehicle_condition']\n",
    "df[cat_cols] = df[cat_cols].apply(LabelEncoder().fit_transform)\n",
    "\n",
    "# Re-arrange columns\n",
    "new_col_order = ['weather_conditions', 'road_traffic_density', 'vehicle_condition',\n",
    "                 'type_of_order','type_of_vehicle','multiple_deliveries','festival','city',\n",
    "                 'pickup_time_min','delivery_dist_km','month','weekend','time_taken_min']\n",
    "df = df[new_col_order]\n",
    "\n",
    "# Scale numerical columns using Min-Max\n",
    "scaler = MinMaxScaler()\n",
    "num_cols = ['pickup_time_min','delivery_dist_km']\n",
    "df[num_cols] = scaler.fit_transform(df[num_cols])\n",
    "\n",
    "# Preview cleaned & pre-processed dataframe\n",
    "print(f\"Data Shape: {df.shape}\\n\")\n",
    "df.head()\n"
   ]
  },
  {
   "cell_type": "code",
   "execution_count": null,
   "id": "b998366d",
   "metadata": {},
   "outputs": [
    {
     "name": "stderr",
     "output_type": "stream",
     "text": [
      "WARNING: All log messages before absl::InitializeLog() is called are written to STDERR\n",
      "I0000 00:00:1758818564.839085   34640 cpu_feature_guard.cc:210] This TensorFlow binary is optimized to use available CPU instructions in performance-critical operations.\n",
      "To enable the following instructions: AVX2 FMA, in other operations, rebuild TensorFlow with the appropriate compiler flags.\n",
      "W0000 00:00:1758818566.919338   34640 gpu_device.cc:2456] TensorFlow was not built with CUDA kernel binaries compatible with compute capability 12.0a. CUDA kernels will be jit-compiled from PTX, which could take 30 minutes or longer.\n",
      "W0000 00:00:1758818566.921626   34640 gpu_device.cc:2456] TensorFlow was not built with CUDA kernel binaries compatible with compute capability 12.0a. CUDA kernels will be jit-compiled from PTX, which could take 30 minutes or longer.\n",
      "I0000 00:00:1758818567.161671   34640 gpu_device.cc:2040] Created device /job:localhost/replica:0/task:0/device:GPU:0 with 9129 MB memory:  -> device: 0, name: NVIDIA GeForce RTX 5070, pci bus id: 0000:2b:00.0, compute capability: 12.0a\n"
     ]
    },
    {
     "name": "stdout",
     "output_type": "stream",
     "text": [
      "Epoch 1/50\n"
     ]
    },
    {
     "name": "stderr",
     "output_type": "stream",
     "text": [
      "I0000 00:00:1758818569.584226   34728 service.cc:158] XLA service 0x711ba8003770 initialized for platform CUDA (this does not guarantee that XLA will be used). Devices:\n",
      "I0000 00:00:1758818569.584264   34728 service.cc:166]   StreamExecutor device (0): NVIDIA GeForce RTX 5070, Compute Capability 12.0a\n",
      "I0000 00:00:1758818569.622533   34728 dump_mlir_util.cc:269] disabling MLIR crash reproducer, set env var `MLIR_CRASH_REPRODUCER_DIRECTORY` to enable.\n",
      "I0000 00:00:1758818569.844232   34728 cuda_dnn.cc:463] Loaded cuDNN version 91300\n",
      "I0000 00:00:1758818570.414945   34800 subprocess_compilation.cc:347] ptxas warning : Registers are spilled to local memory in function 'gemm_fusion_MatMul_26', 12 bytes spill stores, 12 bytes spill loads\n",
      "\n"
     ]
    },
    {
     "name": "stdout",
     "output_type": "stream",
     "text": [
      "\u001b[1m 56/590\u001b[0m \u001b[32m━\u001b[0m\u001b[37m━━━━━━━━━━━━━━━━━━━\u001b[0m \u001b[1m1s\u001b[0m 3ms/step - loss: 620.5626 - mae: 22.6204"
     ]
    },
    {
     "name": "stderr",
     "output_type": "stream",
     "text": [
      "I0000 00:00:1758818572.186941   34728 device_compiler.h:208] Compiled cluster using XLA!  This line is logged at most once for the lifetime of the process.\n"
     ]
    },
    {
     "name": "stdout",
     "output_type": "stream",
     "text": [
      "\u001b[1m589/590\u001b[0m \u001b[32m━━━━━━━━━━━━━━━━━━━\u001b[0m\u001b[37m━\u001b[0m \u001b[1m0s\u001b[0m 3ms/step - loss: 215.8732 - mae: 11.2313"
     ]
    },
    {
     "name": "stderr",
     "output_type": "stream",
     "text": [
      "I0000 00:00:1758818574.434119   34884 subprocess_compilation.cc:347] ptxas warning : Registers are spilled to local memory in function 'gemm_fusion_MatMul_26', 12 bytes spill stores, 12 bytes spill loads\n",
      "\n"
     ]
    },
    {
     "name": "stdout",
     "output_type": "stream",
     "text": [
      "\u001b[1m590/590\u001b[0m \u001b[32m━━━━━━━━━━━━━━━━━━━━\u001b[0m\u001b[37m\u001b[0m \u001b[1m0s\u001b[0m 6ms/step - loss: 215.6920 - mae: 11.2258\n",
      "Epoch 1: val_mae improved from None to 6.39588, saving model to best_model.h5\n"
     ]
    },
    {
     "name": "stderr",
     "output_type": "stream",
     "text": [
      "WARNING:absl:You are saving your model as an HDF5 file via `model.save()` or `keras.saving.save_model(model)`. This file format is considered legacy. We recommend using instead the native Keras format, e.g. `model.save('my_model.keras')` or `keras.saving.save_model(model, 'my_model.keras')`. \n"
     ]
    },
    {
     "name": "stdout",
     "output_type": "stream",
     "text": [
      "\u001b[1m590/590\u001b[0m \u001b[32m━━━━━━━━━━━━━━━━━━━━\u001b[0m\u001b[37m\u001b[0m \u001b[1m8s\u001b[0m 7ms/step - loss: 108.9314 - mae: 7.9550 - val_loss: 62.5210 - val_mae: 6.3959\n",
      "Epoch 2/50\n",
      "\u001b[1m577/590\u001b[0m \u001b[32m━━━━━━━━━━━━━━━━━━━\u001b[0m\u001b[37m━\u001b[0m \u001b[1m0s\u001b[0m 3ms/step - loss: 56.2429 - mae: 6.0328\n",
      "Epoch 2: val_mae improved from 6.39588 to 5.89095, saving model to best_model.h5\n"
     ]
    },
    {
     "name": "stderr",
     "output_type": "stream",
     "text": [
      "WARNING:absl:You are saving your model as an HDF5 file via `model.save()` or `keras.saving.save_model(model)`. This file format is considered legacy. We recommend using instead the native Keras format, e.g. `model.save('my_model.keras')` or `keras.saving.save_model(model, 'my_model.keras')`. \n"
     ]
    },
    {
     "name": "stdout",
     "output_type": "stream",
     "text": [
      "\u001b[1m590/590\u001b[0m \u001b[32m━━━━━━━━━━━━━━━━━━━━\u001b[0m\u001b[37m\u001b[0m \u001b[1m2s\u001b[0m 3ms/step - loss: 55.1091 - mae: 5.9715 - val_loss: 53.2876 - val_mae: 5.8909\n",
      "Epoch 3/50\n",
      "\u001b[1m576/590\u001b[0m \u001b[32m━━━━━━━━━━━━━━━━━━━\u001b[0m\u001b[37m━\u001b[0m \u001b[1m0s\u001b[0m 3ms/step - loss: 50.4154 - mae: 5.7206\n",
      "Epoch 3: val_mae improved from 5.89095 to 5.72758, saving model to best_model.h5\n"
     ]
    },
    {
     "name": "stderr",
     "output_type": "stream",
     "text": [
      "WARNING:absl:You are saving your model as an HDF5 file via `model.save()` or `keras.saving.save_model(model)`. This file format is considered legacy. We recommend using instead the native Keras format, e.g. `model.save('my_model.keras')` or `keras.saving.save_model(model, 'my_model.keras')`. \n"
     ]
    },
    {
     "name": "stdout",
     "output_type": "stream",
     "text": [
      "\u001b[1m590/590\u001b[0m \u001b[32m━━━━━━━━━━━━━━━━━━━━\u001b[0m\u001b[37m\u001b[0m \u001b[1m2s\u001b[0m 3ms/step - loss: 49.7410 - mae: 5.6657 - val_loss: 50.4030 - val_mae: 5.7276\n",
      "Epoch 4/50\n",
      "\u001b[1m579/590\u001b[0m \u001b[32m━━━━━━━━━━━━━━━━━━━\u001b[0m\u001b[37m━\u001b[0m \u001b[1m0s\u001b[0m 3ms/step - loss: 48.5706 - mae: 5.5984\n",
      "Epoch 4: val_mae improved from 5.72758 to 5.56329, saving model to best_model.h5\n"
     ]
    },
    {
     "name": "stderr",
     "output_type": "stream",
     "text": [
      "WARNING:absl:You are saving your model as an HDF5 file via `model.save()` or `keras.saving.save_model(model)`. This file format is considered legacy. We recommend using instead the native Keras format, e.g. `model.save('my_model.keras')` or `keras.saving.save_model(model, 'my_model.keras')`. \n"
     ]
    },
    {
     "name": "stdout",
     "output_type": "stream",
     "text": [
      "\u001b[1m590/590\u001b[0m \u001b[32m━━━━━━━━━━━━━━━━━━━━\u001b[0m\u001b[37m\u001b[0m \u001b[1m2s\u001b[0m 3ms/step - loss: 47.0621 - mae: 5.5040 - val_loss: 48.2031 - val_mae: 5.5633\n",
      "Epoch 5/50\n",
      "\u001b[1m580/590\u001b[0m \u001b[32m━━━━━━━━━━━━━━━━━━━\u001b[0m\u001b[37m━\u001b[0m \u001b[1m0s\u001b[0m 3ms/step - loss: 45.0819 - mae: 5.3653\n",
      "Epoch 5: val_mae improved from 5.56329 to 5.52156, saving model to best_model.h5\n"
     ]
    },
    {
     "name": "stderr",
     "output_type": "stream",
     "text": [
      "WARNING:absl:You are saving your model as an HDF5 file via `model.save()` or `keras.saving.save_model(model)`. This file format is considered legacy. We recommend using instead the native Keras format, e.g. `model.save('my_model.keras')` or `keras.saving.save_model(model, 'my_model.keras')`. \n"
     ]
    },
    {
     "name": "stdout",
     "output_type": "stream",
     "text": [
      "\u001b[1m590/590\u001b[0m \u001b[32m━━━━━━━━━━━━━━━━━━━━\u001b[0m\u001b[37m\u001b[0m \u001b[1m2s\u001b[0m 3ms/step - loss: 45.3236 - mae: 5.3918 - val_loss: 47.1651 - val_mae: 5.5216\n",
      "Epoch 6/50\n",
      "\u001b[1m585/590\u001b[0m \u001b[32m━━━━━━━━━━━━━━━━━━━\u001b[0m\u001b[37m━\u001b[0m \u001b[1m0s\u001b[0m 3ms/step - loss: 43.5962 - mae: 5.2823\n",
      "Epoch 6: val_mae improved from 5.52156 to 5.33459, saving model to best_model.h5\n"
     ]
    },
    {
     "name": "stderr",
     "output_type": "stream",
     "text": [
      "WARNING:absl:You are saving your model as an HDF5 file via `model.save()` or `keras.saving.save_model(model)`. This file format is considered legacy. We recommend using instead the native Keras format, e.g. `model.save('my_model.keras')` or `keras.saving.save_model(model, 'my_model.keras')`. \n"
     ]
    },
    {
     "name": "stdout",
     "output_type": "stream",
     "text": [
      "\u001b[1m590/590\u001b[0m \u001b[32m━━━━━━━━━━━━━━━━━━━━\u001b[0m\u001b[37m\u001b[0m \u001b[1m2s\u001b[0m 3ms/step - loss: 44.0593 - mae: 5.3159 - val_loss: 45.2211 - val_mae: 5.3346\n",
      "Epoch 7/50\n",
      "\u001b[1m574/590\u001b[0m \u001b[32m━━━━━━━━━━━━━━━━━━━\u001b[0m\u001b[37m━\u001b[0m \u001b[1m0s\u001b[0m 3ms/step - loss: 42.5372 - mae: 5.2268\n",
      "Epoch 7: val_mae did not improve from 5.33459\n",
      "\u001b[1m590/590\u001b[0m \u001b[32m━━━━━━━━━━━━━━━━━━━━\u001b[0m\u001b[37m\u001b[0m \u001b[1m2s\u001b[0m 3ms/step - loss: 42.8535 - mae: 5.2475 - val_loss: 44.3590 - val_mae: 5.3397\n",
      "Epoch 8/50\n",
      "\u001b[1m585/590\u001b[0m \u001b[32m━━━━━━━━━━━━━━━━━━━\u001b[0m\u001b[37m━\u001b[0m \u001b[1m0s\u001b[0m 3ms/step - loss: 41.8218 - mae: 5.1535\n",
      "Epoch 8: val_mae did not improve from 5.33459\n",
      "\u001b[1m590/590\u001b[0m \u001b[32m━━━━━━━━━━━━━━━━━━━━\u001b[0m\u001b[37m\u001b[0m \u001b[1m2s\u001b[0m 3ms/step - loss: 41.8790 - mae: 5.1719 - val_loss: 44.7809 - val_mae: 5.3548\n",
      "Epoch 9/50\n",
      "\u001b[1m580/590\u001b[0m \u001b[32m━━━━━━━━━━━━━━━━━━━\u001b[0m\u001b[37m━\u001b[0m \u001b[1m0s\u001b[0m 3ms/step - loss: 40.7984 - mae: 5.1126\n",
      "Epoch 9: val_mae improved from 5.33459 to 5.18165, saving model to best_model.h5\n"
     ]
    },
    {
     "name": "stderr",
     "output_type": "stream",
     "text": [
      "WARNING:absl:You are saving your model as an HDF5 file via `model.save()` or `keras.saving.save_model(model)`. This file format is considered legacy. We recommend using instead the native Keras format, e.g. `model.save('my_model.keras')` or `keras.saving.save_model(model, 'my_model.keras')`. \n"
     ]
    },
    {
     "name": "stdout",
     "output_type": "stream",
     "text": [
      "\u001b[1m590/590\u001b[0m \u001b[32m━━━━━━━━━━━━━━━━━━━━\u001b[0m\u001b[37m\u001b[0m \u001b[1m2s\u001b[0m 3ms/step - loss: 41.0762 - mae: 5.1212 - val_loss: 42.0813 - val_mae: 5.1816\n",
      "Epoch 10/50\n",
      "\u001b[1m585/590\u001b[0m \u001b[32m━━━━━━━━━━━━━━━━━━━\u001b[0m\u001b[37m━\u001b[0m \u001b[1m0s\u001b[0m 3ms/step - loss: 40.4297 - mae: 5.0611\n",
      "Epoch 10: val_mae improved from 5.18165 to 5.08021, saving model to best_model.h5\n"
     ]
    },
    {
     "name": "stderr",
     "output_type": "stream",
     "text": [
      "WARNING:absl:You are saving your model as an HDF5 file via `model.save()` or `keras.saving.save_model(model)`. This file format is considered legacy. We recommend using instead the native Keras format, e.g. `model.save('my_model.keras')` or `keras.saving.save_model(model, 'my_model.keras')`. \n"
     ]
    },
    {
     "name": "stdout",
     "output_type": "stream",
     "text": [
      "\u001b[1m590/590\u001b[0m \u001b[32m━━━━━━━━━━━━━━━━━━━━\u001b[0m\u001b[37m\u001b[0m \u001b[1m2s\u001b[0m 3ms/step - loss: 40.1102 - mae: 5.0449 - val_loss: 41.0537 - val_mae: 5.0802\n",
      "Epoch 11/50\n",
      "\u001b[1m585/590\u001b[0m \u001b[32m━━━━━━━━━━━━━━━━━━━\u001b[0m\u001b[37m━\u001b[0m \u001b[1m0s\u001b[0m 3ms/step - loss: 39.8023 - mae: 5.0207\n",
      "Epoch 11: val_mae did not improve from 5.08021\n",
      "\u001b[1m590/590\u001b[0m \u001b[32m━━━━━━━━━━━━━━━━━━━━\u001b[0m\u001b[37m\u001b[0m \u001b[1m3s\u001b[0m 3ms/step - loss: 39.6557 - mae: 5.0173 - val_loss: 41.1489 - val_mae: 5.1175\n",
      "Epoch 12/50\n",
      "\u001b[1m578/590\u001b[0m \u001b[32m━━━━━━━━━━━━━━━━━━━\u001b[0m\u001b[37m━\u001b[0m \u001b[1m0s\u001b[0m 3ms/step - loss: 39.1331 - mae: 4.9739\n",
      "Epoch 12: val_mae improved from 5.08021 to 4.98387, saving model to best_model.h5\n"
     ]
    },
    {
     "name": "stderr",
     "output_type": "stream",
     "text": [
      "WARNING:absl:You are saving your model as an HDF5 file via `model.save()` or `keras.saving.save_model(model)`. This file format is considered legacy. We recommend using instead the native Keras format, e.g. `model.save('my_model.keras')` or `keras.saving.save_model(model, 'my_model.keras')`. \n"
     ]
    },
    {
     "name": "stdout",
     "output_type": "stream",
     "text": [
      "\u001b[1m590/590\u001b[0m \u001b[32m━━━━━━━━━━━━━━━━━━━━\u001b[0m\u001b[37m\u001b[0m \u001b[1m2s\u001b[0m 3ms/step - loss: 39.0263 - mae: 4.9799 - val_loss: 39.9484 - val_mae: 4.9839\n",
      "Epoch 13/50\n",
      "\u001b[1m581/590\u001b[0m \u001b[32m━━━━━━━━━━━━━━━━━━━\u001b[0m\u001b[37m━\u001b[0m \u001b[1m0s\u001b[0m 3ms/step - loss: 37.8131 - mae: 4.9089\n",
      "Epoch 13: val_mae improved from 4.98387 to 4.96264, saving model to best_model.h5\n"
     ]
    },
    {
     "name": "stderr",
     "output_type": "stream",
     "text": [
      "WARNING:absl:You are saving your model as an HDF5 file via `model.save()` or `keras.saving.save_model(model)`. This file format is considered legacy. We recommend using instead the native Keras format, e.g. `model.save('my_model.keras')` or `keras.saving.save_model(model, 'my_model.keras')`. \n"
     ]
    },
    {
     "name": "stdout",
     "output_type": "stream",
     "text": [
      "\u001b[1m590/590\u001b[0m \u001b[32m━━━━━━━━━━━━━━━━━━━━\u001b[0m\u001b[37m\u001b[0m \u001b[1m2s\u001b[0m 3ms/step - loss: 38.5263 - mae: 4.9395 - val_loss: 39.8885 - val_mae: 4.9626\n",
      "Epoch 14/50\n",
      "\u001b[1m583/590\u001b[0m \u001b[32m━━━━━━━━━━━━━━━━━━━\u001b[0m\u001b[37m━\u001b[0m \u001b[1m0s\u001b[0m 3ms/step - loss: 39.3665 - mae: 4.9958\n",
      "Epoch 14: val_mae improved from 4.96264 to 4.93128, saving model to best_model.h5\n"
     ]
    },
    {
     "name": "stderr",
     "output_type": "stream",
     "text": [
      "WARNING:absl:You are saving your model as an HDF5 file via `model.save()` or `keras.saving.save_model(model)`. This file format is considered legacy. We recommend using instead the native Keras format, e.g. `model.save('my_model.keras')` or `keras.saving.save_model(model, 'my_model.keras')`. \n"
     ]
    },
    {
     "name": "stdout",
     "output_type": "stream",
     "text": [
      "\u001b[1m590/590\u001b[0m \u001b[32m━━━━━━━━━━━━━━━━━━━━\u001b[0m\u001b[37m\u001b[0m \u001b[1m2s\u001b[0m 3ms/step - loss: 38.2548 - mae: 4.9172 - val_loss: 39.2671 - val_mae: 4.9313\n",
      "Epoch 15/50\n",
      "\u001b[1m587/590\u001b[0m \u001b[32m━━━━━━━━━━━━━━━━━━━\u001b[0m\u001b[37m━\u001b[0m \u001b[1m0s\u001b[0m 3ms/step - loss: 37.8862 - mae: 4.9013\n",
      "Epoch 15: val_mae did not improve from 4.93128\n",
      "\u001b[1m590/590\u001b[0m \u001b[32m━━━━━━━━━━━━━━━━━━━━\u001b[0m\u001b[37m\u001b[0m \u001b[1m2s\u001b[0m 3ms/step - loss: 37.9846 - mae: 4.8925 - val_loss: 41.8797 - val_mae: 5.1001\n",
      "Epoch 16/50\n",
      "\u001b[1m588/590\u001b[0m \u001b[32m━━━━━━━━━━━━━━━━━━━\u001b[0m\u001b[37m━\u001b[0m \u001b[1m0s\u001b[0m 3ms/step - loss: 38.1995 - mae: 4.9048\n",
      "Epoch 16: val_mae did not improve from 4.93128\n",
      "\u001b[1m590/590\u001b[0m \u001b[32m━━━━━━━━━━━━━━━━━━━━\u001b[0m\u001b[37m\u001b[0m \u001b[1m2s\u001b[0m 3ms/step - loss: 37.6499 - mae: 4.8758 - val_loss: 39.2297 - val_mae: 4.9410\n",
      "Epoch 17/50\n",
      "\u001b[1m155/590\u001b[0m \u001b[32m━━━━━\u001b[0m\u001b[37m━━━━━━━━━━━━━━━\u001b[0m \u001b[1m1s\u001b[0m 3ms/step - loss: 35.2175 - mae: 4.6944\n",
      "Epoch 17: val_mae improved from 4.93128 to 4.92353, saving model to best_model.h5\n"
     ]
    },
    {
     "name": "stderr",
     "output_type": "stream",
     "text": [
      "WARNING:absl:You are saving your model as an HDF5 file via `model.save()` or `keras.saving.save_model(model)`. This file format is considered legacy. We recommend using instead the native Keras format, e.g. `model.save('my_model.keras')` or `keras.saving.save_model(model, 'my_model.keras')`. \n"
     ]
    },
    {
     "name": "stdout",
     "output_type": "stream",
     "text": [
      "\u001b[1m590/590\u001b[0m \u001b[32m━━━━━━━━━━━━━━━━━━━━\u001b[0m\u001b[37m\u001b[0m \u001b[1m1s\u001b[0m 1ms/step - loss: 37.4802 - mae: 4.8593 - val_loss: 39.0514 - val_mae: 4.9235\n",
      "Epoch 18/50\n",
      "\u001b[1m586/590\u001b[0m \u001b[32m━━━━━━━━━━━━━━━━━━━\u001b[0m\u001b[37m━\u001b[0m \u001b[1m0s\u001b[0m 3ms/step - loss: 37.6441 - mae: 4.8732\n",
      "Epoch 18: val_mae improved from 4.92353 to 4.89556, saving model to best_model.h5\n"
     ]
    },
    {
     "name": "stderr",
     "output_type": "stream",
     "text": [
      "WARNING:absl:You are saving your model as an HDF5 file via `model.save()` or `keras.saving.save_model(model)`. This file format is considered legacy. We recommend using instead the native Keras format, e.g. `model.save('my_model.keras')` or `keras.saving.save_model(model, 'my_model.keras')`. \n"
     ]
    },
    {
     "name": "stdout",
     "output_type": "stream",
     "text": [
      "\u001b[1m590/590\u001b[0m \u001b[32m━━━━━━━━━━━━━━━━━━━━\u001b[0m\u001b[37m\u001b[0m \u001b[1m2s\u001b[0m 3ms/step - loss: 37.1876 - mae: 4.8444 - val_loss: 38.8837 - val_mae: 4.8956\n",
      "Epoch 19/50\n",
      "\u001b[1m587/590\u001b[0m \u001b[32m━━━━━━━━━━━━━━━━━━━\u001b[0m\u001b[37m━\u001b[0m \u001b[1m0s\u001b[0m 3ms/step - loss: 37.9196 - mae: 4.8868\n",
      "Epoch 19: val_mae did not improve from 4.89556\n",
      "\u001b[1m590/590\u001b[0m \u001b[32m━━━━━━━━━━━━━━━━━━━━\u001b[0m\u001b[37m\u001b[0m \u001b[1m2s\u001b[0m 3ms/step - loss: 37.1398 - mae: 4.8368 - val_loss: 39.0468 - val_mae: 4.9036\n",
      "Epoch 20/50\n",
      "\u001b[1m579/590\u001b[0m \u001b[32m━━━━━━━━━━━━━━━━━━━\u001b[0m\u001b[37m━\u001b[0m \u001b[1m0s\u001b[0m 3ms/step - loss: 36.3672 - mae: 4.7936\n",
      "Epoch 20: val_mae improved from 4.89556 to 4.86211, saving model to best_model.h5\n"
     ]
    },
    {
     "name": "stderr",
     "output_type": "stream",
     "text": [
      "WARNING:absl:You are saving your model as an HDF5 file via `model.save()` or `keras.saving.save_model(model)`. This file format is considered legacy. We recommend using instead the native Keras format, e.g. `model.save('my_model.keras')` or `keras.saving.save_model(model, 'my_model.keras')`. \n"
     ]
    },
    {
     "name": "stdout",
     "output_type": "stream",
     "text": [
      "\u001b[1m590/590\u001b[0m \u001b[32m━━━━━━━━━━━━━━━━━━━━\u001b[0m\u001b[37m\u001b[0m \u001b[1m2s\u001b[0m 3ms/step - loss: 36.9239 - mae: 4.8242 - val_loss: 38.3125 - val_mae: 4.8621\n",
      "Epoch 21/50\n",
      "\u001b[1m575/590\u001b[0m \u001b[32m━━━━━━━━━━━━━━━━━━━\u001b[0m\u001b[37m━\u001b[0m \u001b[1m0s\u001b[0m 3ms/step - loss: 37.1751 - mae: 4.8387\n",
      "Epoch 21: val_mae did not improve from 4.86211\n",
      "\u001b[1m590/590\u001b[0m \u001b[32m━━━━━━━━━━━━━━━━━━━━\u001b[0m\u001b[37m\u001b[0m \u001b[1m2s\u001b[0m 3ms/step - loss: 36.8343 - mae: 4.8173 - val_loss: 38.1423 - val_mae: 4.8751\n",
      "Epoch 22/50\n",
      "\u001b[1m582/590\u001b[0m \u001b[32m━━━━━━━━━━━━━━━━━━━\u001b[0m\u001b[37m━\u001b[0m \u001b[1m0s\u001b[0m 3ms/step - loss: 36.0924 - mae: 4.7564\n",
      "Epoch 22: val_mae did not improve from 4.86211\n",
      "\u001b[1m590/590\u001b[0m \u001b[32m━━━━━━━━━━━━━━━━━━━━\u001b[0m\u001b[37m\u001b[0m \u001b[1m2s\u001b[0m 3ms/step - loss: 36.4850 - mae: 4.7860 - val_loss: 38.5387 - val_mae: 4.8643\n",
      "Epoch 23/50\n",
      "\u001b[1m571/590\u001b[0m \u001b[32m━━━━━━━━━━━━━━━━━━━\u001b[0m\u001b[37m━\u001b[0m \u001b[1m0s\u001b[0m 3ms/step - loss: 36.1654 - mae: 4.7778\n",
      "Epoch 23: val_mae improved from 4.86211 to 4.82199, saving model to best_model.h5\n"
     ]
    },
    {
     "name": "stderr",
     "output_type": "stream",
     "text": [
      "WARNING:absl:You are saving your model as an HDF5 file via `model.save()` or `keras.saving.save_model(model)`. This file format is considered legacy. We recommend using instead the native Keras format, e.g. `model.save('my_model.keras')` or `keras.saving.save_model(model, 'my_model.keras')`. \n"
     ]
    },
    {
     "name": "stdout",
     "output_type": "stream",
     "text": [
      "\u001b[1m590/590\u001b[0m \u001b[32m━━━━━━━━━━━━━━━━━━━━\u001b[0m\u001b[37m\u001b[0m \u001b[1m2s\u001b[0m 4ms/step - loss: 36.3082 - mae: 4.7775 - val_loss: 37.5927 - val_mae: 4.8220\n",
      "Epoch 24/50\n",
      "\u001b[1m588/590\u001b[0m \u001b[32m━━━━━━━━━━━━━━━━━━━\u001b[0m\u001b[37m━\u001b[0m \u001b[1m0s\u001b[0m 3ms/step - loss: 36.2491 - mae: 4.7747\n",
      "Epoch 24: val_mae did not improve from 4.82199\n",
      "\u001b[1m590/590\u001b[0m \u001b[32m━━━━━━━━━━━━━━━━━━━━\u001b[0m\u001b[37m\u001b[0m \u001b[1m2s\u001b[0m 4ms/step - loss: 36.2591 - mae: 4.7802 - val_loss: 37.8120 - val_mae: 4.8338\n",
      "Epoch 25/50\n",
      "\u001b[1m582/590\u001b[0m \u001b[32m━━━━━━━━━━━━━━━━━━━\u001b[0m\u001b[37m━\u001b[0m \u001b[1m0s\u001b[0m 3ms/step - loss: 36.0295 - mae: 4.7711\n",
      "Epoch 25: val_mae did not improve from 4.82199\n",
      "\u001b[1m590/590\u001b[0m \u001b[32m━━━━━━━━━━━━━━━━━━━━\u001b[0m\u001b[37m\u001b[0m \u001b[1m2s\u001b[0m 4ms/step - loss: 36.1898 - mae: 4.7761 - val_loss: 38.4697 - val_mae: 4.9106\n",
      "Epoch 26/50\n",
      "\u001b[1m576/590\u001b[0m \u001b[32m━━━━━━━━━━━━━━━━━━━\u001b[0m\u001b[37m━\u001b[0m \u001b[1m0s\u001b[0m 3ms/step - loss: 35.6098 - mae: 4.7337\n",
      "Epoch 26: val_mae improved from 4.82199 to 4.81569, saving model to best_model.h5\n"
     ]
    },
    {
     "name": "stderr",
     "output_type": "stream",
     "text": [
      "WARNING:absl:You are saving your model as an HDF5 file via `model.save()` or `keras.saving.save_model(model)`. This file format is considered legacy. We recommend using instead the native Keras format, e.g. `model.save('my_model.keras')` or `keras.saving.save_model(model, 'my_model.keras')`. \n"
     ]
    },
    {
     "name": "stdout",
     "output_type": "stream",
     "text": [
      "\u001b[1m590/590\u001b[0m \u001b[32m━━━━━━━━━━━━━━━━━━━━\u001b[0m\u001b[37m\u001b[0m \u001b[1m2s\u001b[0m 3ms/step - loss: 36.0080 - mae: 4.7589 - val_loss: 37.3416 - val_mae: 4.8157\n",
      "Epoch 27/50\n",
      "\u001b[1m587/590\u001b[0m \u001b[32m━━━━━━━━━━━━━━━━━━━\u001b[0m\u001b[37m━\u001b[0m \u001b[1m0s\u001b[0m 3ms/step - loss: 35.5604 - mae: 4.7273\n",
      "Epoch 27: val_mae did not improve from 4.81569\n",
      "\u001b[1m590/590\u001b[0m \u001b[32m━━━━━━━━━━━━━━━━━━━━\u001b[0m\u001b[37m\u001b[0m \u001b[1m2s\u001b[0m 3ms/step - loss: 35.6545 - mae: 4.7317 - val_loss: 41.5215 - val_mae: 5.0317\n",
      "Epoch 28/50\n",
      "\u001b[1m575/590\u001b[0m \u001b[32m━━━━━━━━━━━━━━━━━━━\u001b[0m\u001b[37m━\u001b[0m \u001b[1m0s\u001b[0m 3ms/step - loss: 35.6536 - mae: 4.7248\n",
      "Epoch 28: val_mae did not improve from 4.81569\n",
      "\u001b[1m590/590\u001b[0m \u001b[32m━━━━━━━━━━━━━━━━━━━━\u001b[0m\u001b[37m\u001b[0m \u001b[1m2s\u001b[0m 4ms/step - loss: 35.5268 - mae: 4.7241 - val_loss: 37.6679 - val_mae: 4.8224\n",
      "Epoch 29/50\n",
      "\u001b[1m578/590\u001b[0m \u001b[32m━━━━━━━━━━━━━━━━━━━\u001b[0m\u001b[37m━\u001b[0m \u001b[1m0s\u001b[0m 3ms/step - loss: 35.2200 - mae: 4.7133\n",
      "Epoch 29: val_mae did not improve from 4.81569\n",
      "\u001b[1m590/590\u001b[0m \u001b[32m━━━━━━━━━━━━━━━━━━━━\u001b[0m\u001b[37m\u001b[0m \u001b[1m2s\u001b[0m 4ms/step - loss: 35.4559 - mae: 4.7206 - val_loss: 37.6506 - val_mae: 4.8234\n",
      "Epoch 30/50\n",
      "\u001b[1m579/590\u001b[0m \u001b[32m━━━━━━━━━━━━━━━━━━━\u001b[0m\u001b[37m━\u001b[0m \u001b[1m0s\u001b[0m 3ms/step - loss: 34.5683 - mae: 4.6741\n",
      "Epoch 30: val_mae did not improve from 4.81569\n",
      "\u001b[1m590/590\u001b[0m \u001b[32m━━━━━━━━━━━━━━━━━━━━\u001b[0m\u001b[37m\u001b[0m \u001b[1m2s\u001b[0m 4ms/step - loss: 35.2904 - mae: 4.7154 - val_loss: 37.9513 - val_mae: 4.8307\n",
      "Epoch 31/50\n",
      "\u001b[1m590/590\u001b[0m \u001b[32m━━━━━━━━━━━━━━━━━━━━\u001b[0m\u001b[37m\u001b[0m \u001b[1m0s\u001b[0m 3ms/step - loss: 35.0499 - mae: 4.6820\n",
      "Epoch 31: val_mae did not improve from 4.81569\n",
      "\u001b[1m590/590\u001b[0m \u001b[32m━━━━━━━━━━━━━━━━━━━━\u001b[0m\u001b[37m\u001b[0m \u001b[1m2s\u001b[0m 4ms/step - loss: 35.0949 - mae: 4.6953 - val_loss: 37.2847 - val_mae: 4.8160\n",
      "Epoch 32/50\n",
      "\u001b[1m551/590\u001b[0m \u001b[32m━━━━━━━━━━━━━━━━━━\u001b[0m\u001b[37m━━\u001b[0m \u001b[1m0s\u001b[0m 3ms/step - loss: 35.3028 - mae: 4.7244\n",
      "Epoch 32: val_mae improved from 4.81569 to 4.77218, saving model to best_model.h5\n"
     ]
    },
    {
     "name": "stderr",
     "output_type": "stream",
     "text": [
      "WARNING:absl:You are saving your model as an HDF5 file via `model.save()` or `keras.saving.save_model(model)`. This file format is considered legacy. We recommend using instead the native Keras format, e.g. `model.save('my_model.keras')` or `keras.saving.save_model(model, 'my_model.keras')`. \n"
     ]
    },
    {
     "name": "stdout",
     "output_type": "stream",
     "text": [
      "\u001b[1m590/590\u001b[0m \u001b[32m━━━━━━━━━━━━━━━━━━━━\u001b[0m\u001b[37m\u001b[0m \u001b[1m1s\u001b[0m 1ms/step - loss: 34.9628 - mae: 4.6905 - val_loss: 36.9904 - val_mae: 4.7722\n",
      "Epoch 33/50\n",
      "\u001b[1m588/590\u001b[0m \u001b[32m━━━━━━━━━━━━━━━━━━━\u001b[0m\u001b[37m━\u001b[0m \u001b[1m0s\u001b[0m 3ms/step - loss: 34.4966 - mae: 4.6452\n",
      "Epoch 33: val_mae did not improve from 4.77218\n",
      "\u001b[1m590/590\u001b[0m \u001b[32m━━━━━━━━━━━━━━━━━━━━\u001b[0m\u001b[37m\u001b[0m \u001b[1m2s\u001b[0m 3ms/step - loss: 34.7778 - mae: 4.6699 - val_loss: 37.2538 - val_mae: 4.8053\n",
      "Epoch 34/50\n",
      "\u001b[1m577/590\u001b[0m \u001b[32m━━━━━━━━━━━━━━━━━━━\u001b[0m\u001b[37m━\u001b[0m \u001b[1m0s\u001b[0m 3ms/step - loss: 34.0066 - mae: 4.6351\n",
      "Epoch 34: val_mae did not improve from 4.77218\n",
      "\u001b[1m590/590\u001b[0m \u001b[32m━━━━━━━━━━━━━━━━━━━━\u001b[0m\u001b[37m\u001b[0m \u001b[1m2s\u001b[0m 4ms/step - loss: 34.5581 - mae: 4.6561 - val_loss: 37.2430 - val_mae: 4.7920\n",
      "Epoch 35/50\n",
      "\u001b[1m577/590\u001b[0m \u001b[32m━━━━━━━━━━━━━━━━━━━\u001b[0m\u001b[37m━\u001b[0m \u001b[1m0s\u001b[0m 3ms/step - loss: 34.5224 - mae: 4.6448\n",
      "Epoch 35: val_mae improved from 4.77218 to 4.76771, saving model to best_model.h5\n"
     ]
    },
    {
     "name": "stderr",
     "output_type": "stream",
     "text": [
      "WARNING:absl:You are saving your model as an HDF5 file via `model.save()` or `keras.saving.save_model(model)`. This file format is considered legacy. We recommend using instead the native Keras format, e.g. `model.save('my_model.keras')` or `keras.saving.save_model(model, 'my_model.keras')`. \n"
     ]
    },
    {
     "name": "stdout",
     "output_type": "stream",
     "text": [
      "\u001b[1m590/590\u001b[0m \u001b[32m━━━━━━━━━━━━━━━━━━━━\u001b[0m\u001b[37m\u001b[0m \u001b[1m2s\u001b[0m 4ms/step - loss: 34.5965 - mae: 4.6657 - val_loss: 36.7739 - val_mae: 4.7677\n",
      "Epoch 36/50\n",
      "\u001b[1m581/590\u001b[0m \u001b[32m━━━━━━━━━━━━━━━━━━━\u001b[0m\u001b[37m━\u001b[0m \u001b[1m0s\u001b[0m 3ms/step - loss: 34.6617 - mae: 4.6659\n",
      "Epoch 36: val_mae improved from 4.76771 to 4.76036, saving model to best_model.h5\n"
     ]
    },
    {
     "name": "stderr",
     "output_type": "stream",
     "text": [
      "WARNING:absl:You are saving your model as an HDF5 file via `model.save()` or `keras.saving.save_model(model)`. This file format is considered legacy. We recommend using instead the native Keras format, e.g. `model.save('my_model.keras')` or `keras.saving.save_model(model, 'my_model.keras')`. \n"
     ]
    },
    {
     "name": "stdout",
     "output_type": "stream",
     "text": [
      "\u001b[1m590/590\u001b[0m \u001b[32m━━━━━━━━━━━━━━━━━━━━\u001b[0m\u001b[37m\u001b[0m \u001b[1m2s\u001b[0m 3ms/step - loss: 34.3972 - mae: 4.6410 - val_loss: 36.5561 - val_mae: 4.7604\n",
      "Epoch 37/50\n",
      "\u001b[1m578/590\u001b[0m \u001b[32m━━━━━━━━━━━━━━━━━━━\u001b[0m\u001b[37m━\u001b[0m \u001b[1m0s\u001b[0m 3ms/step - loss: 33.9245 - mae: 4.6069\n",
      "Epoch 37: val_mae did not improve from 4.76036\n",
      "\u001b[1m590/590\u001b[0m \u001b[32m━━━━━━━━━━━━━━━━━━━━\u001b[0m\u001b[37m\u001b[0m \u001b[1m2s\u001b[0m 4ms/step - loss: 34.2344 - mae: 4.6370 - val_loss: 37.7876 - val_mae: 4.8446\n",
      "Epoch 38/50\n",
      "\u001b[1m587/590\u001b[0m \u001b[32m━━━━━━━━━━━━━━━━━━━\u001b[0m\u001b[37m━\u001b[0m \u001b[1m0s\u001b[0m 3ms/step - loss: 33.6163 - mae: 4.5934\n",
      "Epoch 38: val_mae did not improve from 4.76036\n",
      "\u001b[1m590/590\u001b[0m \u001b[32m━━━━━━━━━━━━━━━━━━━━\u001b[0m\u001b[37m\u001b[0m \u001b[1m2s\u001b[0m 3ms/step - loss: 34.1078 - mae: 4.6249 - val_loss: 36.6897 - val_mae: 4.7726\n",
      "Epoch 39/50\n",
      "\u001b[1m578/590\u001b[0m \u001b[32m━━━━━━━━━━━━━━━━━━━\u001b[0m\u001b[37m━\u001b[0m \u001b[1m0s\u001b[0m 3ms/step - loss: 34.4305 - mae: 4.6588\n",
      "Epoch 39: val_mae did not improve from 4.76036\n",
      "\u001b[1m590/590\u001b[0m \u001b[32m━━━━━━━━━━━━━━━━━━━━\u001b[0m\u001b[37m\u001b[0m \u001b[1m2s\u001b[0m 4ms/step - loss: 33.9595 - mae: 4.6082 - val_loss: 38.1472 - val_mae: 4.8407\n",
      "Epoch 40/50\n",
      "\u001b[1m590/590\u001b[0m \u001b[32m━━━━━━━━━━━━━━━━━━━━\u001b[0m\u001b[37m\u001b[0m \u001b[1m0s\u001b[0m 3ms/step - loss: 34.0305 - mae: 4.6083\n",
      "Epoch 40: val_mae improved from 4.76036 to 4.71788, saving model to best_model.h5\n"
     ]
    },
    {
     "name": "stderr",
     "output_type": "stream",
     "text": [
      "WARNING:absl:You are saving your model as an HDF5 file via `model.save()` or `keras.saving.save_model(model)`. This file format is considered legacy. We recommend using instead the native Keras format, e.g. `model.save('my_model.keras')` or `keras.saving.save_model(model, 'my_model.keras')`. \n"
     ]
    },
    {
     "name": "stdout",
     "output_type": "stream",
     "text": [
      "\u001b[1m590/590\u001b[0m \u001b[32m━━━━━━━━━━━━━━━━━━━━\u001b[0m\u001b[37m\u001b[0m \u001b[1m2s\u001b[0m 3ms/step - loss: 33.9464 - mae: 4.6091 - val_loss: 36.1667 - val_mae: 4.7179\n",
      "Epoch 41/50\n",
      "\u001b[1m581/590\u001b[0m \u001b[32m━━━━━━━━━━━━━━━━━━━\u001b[0m\u001b[37m━\u001b[0m \u001b[1m0s\u001b[0m 3ms/step - loss: 34.3380 - mae: 4.6399\n",
      "Epoch 41: val_mae did not improve from 4.71788\n",
      "\u001b[1m590/590\u001b[0m \u001b[32m━━━━━━━━━━━━━━━━━━━━\u001b[0m\u001b[37m\u001b[0m \u001b[1m2s\u001b[0m 3ms/step - loss: 33.8441 - mae: 4.6039 - val_loss: 36.1087 - val_mae: 4.7219\n",
      "Epoch 42/50\n",
      "\u001b[1m580/590\u001b[0m \u001b[32m━━━━━━━━━━━━━━━━━━━\u001b[0m\u001b[37m━\u001b[0m \u001b[1m0s\u001b[0m 3ms/step - loss: 33.4974 - mae: 4.5863\n",
      "Epoch 42: val_mae did not improve from 4.71788\n",
      "\u001b[1m590/590\u001b[0m \u001b[32m━━━━━━━━━━━━━━━━━━━━\u001b[0m\u001b[37m\u001b[0m \u001b[1m2s\u001b[0m 4ms/step - loss: 33.8641 - mae: 4.6030 - val_loss: 36.1699 - val_mae: 4.7235\n",
      "Epoch 43/50\n",
      "\u001b[1m577/590\u001b[0m \u001b[32m━━━━━━━━━━━━━━━━━━━\u001b[0m\u001b[37m━\u001b[0m \u001b[1m0s\u001b[0m 3ms/step - loss: 33.1059 - mae: 4.5685\n",
      "Epoch 43: val_mae did not improve from 4.71788\n",
      "\u001b[1m590/590\u001b[0m \u001b[32m━━━━━━━━━━━━━━━━━━━━\u001b[0m\u001b[37m\u001b[0m \u001b[1m2s\u001b[0m 4ms/step - loss: 33.6576 - mae: 4.6006 - val_loss: 36.1390 - val_mae: 4.7211\n",
      "Epoch 44/50\n",
      "\u001b[1m581/590\u001b[0m \u001b[32m━━━━━━━━━━━━━━━━━━━\u001b[0m\u001b[37m━\u001b[0m \u001b[1m0s\u001b[0m 3ms/step - loss: 32.7397 - mae: 4.5298\n",
      "Epoch 44: val_mae did not improve from 4.71788\n",
      "\u001b[1m590/590\u001b[0m \u001b[32m━━━━━━━━━━━━━━━━━━━━\u001b[0m\u001b[37m\u001b[0m \u001b[1m2s\u001b[0m 4ms/step - loss: 33.6127 - mae: 4.5858 - val_loss: 36.9855 - val_mae: 4.7928\n",
      "Epoch 45/50\n",
      "\u001b[1m585/590\u001b[0m \u001b[32m━━━━━━━━━━━━━━━━━━━\u001b[0m\u001b[37m━\u001b[0m \u001b[1m0s\u001b[0m 3ms/step - loss: 33.5590 - mae: 4.5831\n",
      "Epoch 45: val_mae did not improve from 4.71788\n",
      "\u001b[1m590/590\u001b[0m \u001b[32m━━━━━━━━━━━━━━━━━━━━\u001b[0m\u001b[37m\u001b[0m \u001b[1m2s\u001b[0m 4ms/step - loss: 33.6192 - mae: 4.5886 - val_loss: 36.0590 - val_mae: 4.7221\n",
      "Epoch 46/50\n",
      "\u001b[1m588/590\u001b[0m \u001b[32m━━━━━━━━━━━━━━━━━━━\u001b[0m\u001b[37m━\u001b[0m \u001b[1m0s\u001b[0m 3ms/step - loss: 33.5690 - mae: 4.5863\n",
      "Epoch 46: val_mae did not improve from 4.71788\n",
      "\u001b[1m590/590\u001b[0m \u001b[32m━━━━━━━━━━━━━━━━━━━━\u001b[0m\u001b[37m\u001b[0m \u001b[1m2s\u001b[0m 4ms/step - loss: 33.6276 - mae: 4.5871 - val_loss: 36.3266 - val_mae: 4.7211\n",
      "Epoch 47/50\n",
      "\u001b[1m484/590\u001b[0m \u001b[32m━━━━━━━━━━━━━━━━\u001b[0m\u001b[37m━━━━\u001b[0m \u001b[1m0s\u001b[0m 3ms/step - loss: 33.2199 - mae: 4.5644\n",
      "Epoch 47: val_mae improved from 4.71788 to 4.70613, saving model to best_model.h5\n"
     ]
    },
    {
     "name": "stderr",
     "output_type": "stream",
     "text": [
      "WARNING:absl:You are saving your model as an HDF5 file via `model.save()` or `keras.saving.save_model(model)`. This file format is considered legacy. We recommend using instead the native Keras format, e.g. `model.save('my_model.keras')` or `keras.saving.save_model(model, 'my_model.keras')`. \n"
     ]
    },
    {
     "name": "stdout",
     "output_type": "stream",
     "text": [
      "\u001b[1m590/590\u001b[0m \u001b[32m━━━━━━━━━━━━━━━━━━━━\u001b[0m\u001b[37m\u001b[0m \u001b[1m1s\u001b[0m 1ms/step - loss: 33.4232 - mae: 4.5741 - val_loss: 35.6777 - val_mae: 4.7061\n",
      "Epoch 48/50\n",
      "\u001b[1m575/590\u001b[0m \u001b[32m━━━━━━━━━━━━━━━━━━━\u001b[0m\u001b[37m━\u001b[0m \u001b[1m0s\u001b[0m 3ms/step - loss: 33.0163 - mae: 4.5399\n",
      "Epoch 48: val_mae did not improve from 4.70613\n",
      "\u001b[1m590/590\u001b[0m \u001b[32m━━━━━━━━━━━━━━━━━━━━\u001b[0m\u001b[37m\u001b[0m \u001b[1m2s\u001b[0m 3ms/step - loss: 33.3011 - mae: 4.5591 - val_loss: 35.7696 - val_mae: 4.7084\n",
      "Epoch 49/50\n",
      "\u001b[1m580/590\u001b[0m \u001b[32m━━━━━━━━━━━━━━━━━━━\u001b[0m\u001b[37m━\u001b[0m \u001b[1m0s\u001b[0m 3ms/step - loss: 32.7924 - mae: 4.5161\n",
      "Epoch 49: val_mae did not improve from 4.70613\n",
      "\u001b[1m590/590\u001b[0m \u001b[32m━━━━━━━━━━━━━━━━━━━━\u001b[0m\u001b[37m\u001b[0m \u001b[1m2s\u001b[0m 4ms/step - loss: 33.2918 - mae: 4.5623 - val_loss: 36.8983 - val_mae: 4.8129\n",
      "Epoch 50/50\n",
      "\u001b[1m573/590\u001b[0m \u001b[32m━━━━━━━━━━━━━━━━━━━\u001b[0m\u001b[37m━\u001b[0m \u001b[1m0s\u001b[0m 3ms/step - loss: 33.9554 - mae: 4.6053\n",
      "Epoch 50: val_mae did not improve from 4.70613\n",
      "\u001b[1m590/590\u001b[0m \u001b[32m━━━━━━━━━━━━━━━━━━━━\u001b[0m\u001b[37m\u001b[0m \u001b[1m2s\u001b[0m 3ms/step - loss: 33.3019 - mae: 4.5632 - val_loss: 36.0721 - val_mae: 4.7187\n",
      "\u001b[1m185/185\u001b[0m \u001b[32m━━━━━━━━━━━━━━━━━━━━\u001b[0m\u001b[37m\u001b[0m \u001b[1m1s\u001b[0m 6ms/step - loss: 35.8877 - mae: 4.7343\n",
      "Best Test MAE: 4.73\n"
     ]
    }
   ],
   "source": [
    "# Categorical and numerical columns\n",
    "categorical_cols = ['weather_conditions','road_traffic_density','vehicle_condition',\n",
    "                    'type_of_order','type_of_vehicle','multiple_deliveries','festival','city','month','weekend']\n",
    "num_cols = ['pickup_time_min','delivery_dist_km']\n",
    "\n",
    "# Split features and target\n",
    "X = df[categorical_cols + num_cols]\n",
    "y = df['time_taken_min'].values\n",
    "\n",
    "# Train/test split\n",
    "X_train, X_test, y_train, y_test = train_test_split(X, y, test_size=0.2, random_state=42)\n",
    "\n",
    "# Separate categorical and numerical\n",
    "X_train_cat = X_train[categorical_cols].values\n",
    "X_train_num = X_train[num_cols].values\n",
    "X_test_cat = X_test[categorical_cols].values\n",
    "X_test_num = X_test[num_cols].values\n",
    "\n",
    "# Scale numerical features\n",
    "scaler = StandardScaler()\n",
    "X_train_num = scaler.fit_transform(X_train_num)\n",
    "X_test_num = scaler.transform(X_test_num)\n",
    "\n",
    "# Categorical input\n",
    "cat_input = Input(shape=(X_train_cat.shape[1],), name='cat_input')\n",
    "cat_dense = Dense(32, activation='relu')(cat_input)\n",
    "\n",
    "# Numerical input\n",
    "num_input = Input(shape=(X_train_num.shape[1],), name='num_input')\n",
    "num_dense = Dense(16, activation='relu')(num_input)\n",
    "\n",
    "# Concatenate\n",
    "concat = Concatenate()([cat_dense, num_dense])\n",
    "x = Dense(64, activation='relu')(concat)\n",
    "x = Dense(32, activation='relu')(x)\n",
    "output = Dense(1)(x)\n",
    "\n",
    "# Build model\n",
    "model = Model(inputs=[cat_input, num_input], outputs=output)\n",
    "model.compile(optimizer='adam', loss='mse', metrics=['mae'])\n",
    "\n",
    "# Save the best model during training\n",
    "checkpoint = ModelCheckpoint(\n",
    "    'best_model.h5', \n",
    "    monitor='val_mae', \n",
    "    mode='min', \n",
    "    save_best_only=True, \n",
    "    verbose=1\n",
    ")\n",
    "\n",
    "# Train model\n",
    "history = model.fit(\n",
    "    [X_train_cat, X_train_num], y_train,\n",
    "    validation_split=0.2,\n",
    "    epochs=50,\n",
    "    batch_size=32,\n",
    "    callbacks=[checkpoint],\n",
    "    verbose=1\n",
    ")\n",
    "\n",
    "# Load the best weights\n",
    "model.load_weights('best_model.h5')\n",
    "\n",
    "# Evaluate on test set\n",
    "test_loss, test_mae = model.evaluate([X_test_cat, X_test_num], y_test)\n",
    "print(f\"Best Test MAE: {test_mae:.2f}\")\n"
   ]
  },
  {
   "cell_type": "code",
   "execution_count": 14,
   "id": "6971ea23",
   "metadata": {},
   "outputs": [],
   "source": [
    "# Recreate a test DataFrame\n",
    "test_df = pd.DataFrame(X_test_num, columns=num_cols)  # numerical columns\n",
    "for i, col in enumerate(categorical_cols):\n",
    "    test_df[col] = X_test_cat[:, i]  # add categorical columns\n",
    "\n",
    "# Add the true target values\n",
    "test_df['time_taken_min'] = y_test\n",
    "\n",
    "# Predict and add predictions\n",
    "test_df['predictions'] = model.predict([X_test_cat, X_test_num], verbose=0).flatten()\n"
   ]
  },
  {
   "cell_type": "code",
   "execution_count": 17,
   "id": "bb852ce0",
   "metadata": {},
   "outputs": [
    {
     "data": {
      "image/png": "[encoded data removed]",
      "text/plain": [
       "<Figure size 800x600 with 1 Axes>"
      ]
     },
     "metadata": {},
     "output_type": "display_data"
    }
   ],
   "source": [
    "# Scatter plot of actual vs predicted\n",
    "plt.figure(figsize=(8, 6))\n",
    "plt.scatter(test_df['time_taken_min'], test_df['predictions'], alpha=0.6, color='dodgerblue', edgecolor='k')\n",
    "plt.plot([0, max(test_df['time_taken_min'])], [0, max(test_df['time_taken_min'])], color='red', linestyle='--')  # diagonal line\n",
    "\n",
    "plt.xlabel(\"Actual Delivery Time (min)\")\n",
    "plt.ylabel(\"Predicted Delivery Time (min)\")\n",
    "plt.title(\"Actual vs Predicted Delivery Time\")\n",
    "plt.grid(alpha=0.3)\n",
    "plt.show()\n"
   ]
  },
  {
   "cell_type": "code",
   "execution_count": null,
   "id": "771e0794",
   "metadata": {},
   "outputs": [
    {
     "data": {
      "text/plain": [
       "<Figure size 640x480 with 0 Axes>"
      ]
     },
     "metadata": {},
     "output_type": "display_data"
    }
   ],
   "source": [
    "plt.savefig(\"actual_vs_predicted.png\", dpi=300) "
   ]
  }
 ],
 "metadata": {
  "kernelspec": {
   "display_name": "tfenv",
   "language": "python",
   "name": "python3"
  },
  "language_info": {
   "codemirror_mode": {
    "name": "ipython",
    "version": 3
   },
   "file_extension": ".py",
   "mimetype": "text/x-python",
   "name": "python",
   "nbconvert_exporter": "python",
   "pygments_lexer": "ipython3",
   "version": "3.12.3"
  }
 },
 "nbformat": 4,
 "nbformat_minor": 5
}
